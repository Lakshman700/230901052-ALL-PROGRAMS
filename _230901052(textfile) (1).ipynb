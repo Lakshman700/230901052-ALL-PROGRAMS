{
 "cells": [
  {
   "cell_type": "code",
   "execution_count": 14,
   "id": "9aba33d9-452c-47a3-b914-6d7588302bbd",
   "metadata": {},
   "outputs": [],
   "source": [
    "f=open(\"/Users/student/Downloads/textfile52.txt\",\"w\")\n",
    "f.write(\"Wakeup early \\n\")\n",
    "f.write(\"Read daily\\n\")\n",
    "f.write(\"Be Punctual\\n\")\n",
    "f.close()"
   ]
  },
  {
   "cell_type": "code",
   "execution_count": 27,
   "id": "93dc5c3c-5fd5-493d-9bea-e10a3142ce70",
   "metadata": {},
   "outputs": [
    {
     "name": "stdout",
     "output_type": "stream",
     "text": [
      "Wakeup early \n",
      "\n",
      "Read daily\n",
      "\n"
     ]
    }
   ],
   "source": [
    "a=open(\"/Users/student/Downloads/textfile52.txt\",\"r\")\n",
    "print(a.readline())\n",
    "print(a.readline())\n",
    "a.close()"
   ]
  },
  {
   "cell_type": "code",
   "execution_count": 40,
   "id": "3bb76dae-9fe6-4a47-ba22-77368b383c84",
   "metadata": {},
   "outputs": [],
   "source": [
    "b=open(\"/Users/student/Downloads/textfile52.txt\",\"a\")\n",
    "b.write(\"cristiano\\n\")\n",
    "b.write(\"lakshman\\n\")\n",
    "b.close()"
   ]
  },
  {
   "cell_type": "code",
   "execution_count": 50,
   "id": "66571e44-2c85-44e7-b667-9bf5b87c8037",
   "metadata": {},
   "outputs": [
    {
     "name": "stdout",
     "output_type": "stream",
     "text": [
      "Wakeup early \n",
      "Read daily\n",
      "Be Punctual\n",
      "cristiano\n",
      "lakshman\n",
      "\n",
      "\n"
     ]
    }
   ],
   "source": [
    "c=open(\"/Users/student/Downloads/textfile52.txt\",\"r\")\n",
    "print(c.read())\n",
    "c.close()"
   ]
  },
  {
   "cell_type": "code",
   "execution_count": 48,
   "id": "07ff01ab-a76b-499b-97f7-5c27d2365eea",
   "metadata": {},
   "outputs": [
    {
     "name": "stdout",
     "output_type": "stream",
     "text": [
      "['Wakeup early \\n', 'Read daily\\n', 'Be Punctual\\n', 'cristiano\\n', 'lakshman\\n', '\\n']\n"
     ]
    }
   ],
   "source": [
    "with open(\"/Users/student/Downloads/textfile52.txt\") as file:\n",
    "    lines=file.readlines()\n",
    "    print(lines)"
   ]
  },
  {
   "cell_type": "code",
   "execution_count": null,
   "id": "5e0a9778-3aff-49c1-a773-df2023d66184",
   "metadata": {},
   "outputs": [],
   "source": [
    "import json\n",
    "x='{\"name:\"Sundar\",\"age:25\",\"city:\"delhi}'\n",
    "json.load.x"
   ]
  }
 ],
 "metadata": {
  "kernelspec": {
   "display_name": "Python 3 (ipykernel)",
   "language": "python",
   "name": "python3"
  },
  "language_info": {
   "codemirror_mode": {
    "name": "ipython",
    "version": 3
   },
   "file_extension": ".py",
   "mimetype": "text/x-python",
   "name": "python",
   "nbconvert_exporter": "python",
   "pygments_lexer": "ipython3",
   "version": "3.12.7"
  }
 },
 "nbformat": 4,
 "nbformat_minor": 5
}
