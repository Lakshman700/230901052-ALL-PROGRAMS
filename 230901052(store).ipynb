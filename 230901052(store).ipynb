{
 "cells": [
  {
   "cell_type": "code",
   "execution_count": 3,
   "id": "18fb6fc5-e5c0-4fd6-b438-015fbe16ab34",
   "metadata": {},
   "outputs": [
    {
     "name": "stdout",
     "output_type": "stream",
     "text": [
      "       a  b  c\n",
      "one    1  2  3\n",
      "two    4  5  6\n",
      "three  7  8  9\n"
     ]
    }
   ],
   "source": [
    "import pandas as pd\n",
    "df=pd.DataFrame([[1,2,3],[4,5,6],[7,8,9]],index=['one','two','three'],columns=['a','b','c'])\n",
    "print(df)"
   ]
  },
  {
   "cell_type": "code",
   "execution_count": 5,
   "id": "f07b92d3-52af-4347-b669-c20c5aa25ea1",
   "metadata": {},
   "outputs": [],
   "source": [
    "df.to_excel(\"/Users/student/Downloads/excel1.xlsx\")\n",
    "df.to_excel(\"/Users/student/Downloads/excel2.xlsx\")"
   ]
  },
  {
   "cell_type": "code",
   "execution_count": 7,
   "id": "5b38b0cd-c761-4969-ab96-6f9a2640a28f",
   "metadata": {},
   "outputs": [],
   "source": [
    "df=pd.DataFrame([[10,20,30],[40,50,60],[70,80,90]],index=['Four','Five','Six'],columns=['X','Y','Z'])\n",
    "df.to_excel(\"/Users/student/Downloads/excel1.xlsx\",sheet_name=\"sheet1\")"
   ]
  },
  {
   "cell_type": "code",
   "execution_count": 9,
   "id": "2f25cd33-6de6-423b-94b9-a39296b94d12",
   "metadata": {},
   "outputs": [],
   "source": [
    "df=pd.DataFrame([[6,7],[1,2]],index=['a','b'],columns=['X','Y'])\n",
    "df.to_excel(\"/Users/student/Downloads/excel2.xlsx\",sheet_name=\"sheet1\")"
   ]
  },
  {
   "cell_type": "code",
   "execution_count": 11,
   "id": "178322c9-f76d-4a96-a4c8-3f17a832b2e4",
   "metadata": {},
   "outputs": [],
   "source": [
    "x=pd.read_excel(\"/Users/student/Downloads/excel1.xlsx\")\n",
    "y=pd.read_excel(\"/Users/student/Downloads/excel2.xlsx\")\n",
    "z=pd.concat([x,y])\n",
    "z.to_excel(\"/Users/student/Downloads/excel3.xlsx\",sheet_name=\"sheet1\")"
   ]
  },
  {
   "cell_type": "code",
   "execution_count": 19,
   "id": "4ea35af2-934d-4b39-8e92-409e03cbd3e2",
   "metadata": {},
   "outputs": [
    {
     "name": "stdout",
     "output_type": "stream",
     "text": [
      "  Unnamed: 0   X   Y     Z\n",
      "1          b   1   2   NaN\n",
      "0          a   6   7   NaN\n",
      "0       Four  10  20  30.0\n",
      "1       Five  40  50  60.0\n",
      "2        Six  70  80  90.0\n"
     ]
    }
   ],
   "source": [
    "df=z.sort_values([\"X\"])\n",
    "print(df)\n",
    "df.to_excel(\"/Users/student/Downloads/excel3.xlsx\")"
   ]
  },
  {
   "cell_type": "code",
   "execution_count": 21,
   "id": "f309208c-52a8-4eda-ab86-a48e21666ff8",
   "metadata": {},
   "outputs": [
    {
     "name": "stdout",
     "output_type": "stream",
     "text": [
      "  Unnamed: 0   X   Y     Z\n",
      "1          b   1   2   NaN\n",
      "0          a   6   7   NaN\n",
      "0       Four  10  20  30.0\n",
      "1       Five  40  50  60.0\n",
      "2        Six  70  80  90.0\n"
     ]
    }
   ],
   "source": [
    "df=z.sort_values([\"Y\"])\n",
    "print(df)\n",
    "df.to_excel(\"/Users/student/Downloads/excel3.xlsx\")"
   ]
  },
  {
   "cell_type": "code",
   "execution_count": 23,
   "id": "d0e9cc37-6f45-4fb4-8e2b-f7eee03f5c85",
   "metadata": {},
   "outputs": [
    {
     "name": "stdout",
     "output_type": "stream",
     "text": [
      "   Unnamed: 0.1 Unnamed: 0   X   Y     Z\n",
      "0             1          b   1   2   NaN\n",
      "1             0          a   6   7   NaN\n",
      "2             0       Four  10  20  30.0\n",
      "3             1       Five  40  50  60.0\n",
      "4             2        Six  70  80  90.0\n",
      "['Unnamed: 0.1', 'Unnamed: 0', 'X', 'Y', 'Z']\n",
      "5\n"
     ]
    }
   ],
   "source": [
    "df=pd.read_excel(\"/Users/student/Downloads/excel3.xlsx\")\n",
    "print(df)\n",
    "print(list(df))\n",
    "print(format(len(df)))"
   ]
  },
  {
   "cell_type": "code",
   "execution_count": null,
   "id": "4e141aa8-c958-492e-ade4-8f1f6bbc3744",
   "metadata": {},
   "outputs": [],
   "source": []
  }
 ],
 "metadata": {
  "kernelspec": {
   "display_name": "Python 3 (ipykernel)",
   "language": "python",
   "name": "python3"
  },
  "language_info": {
   "codemirror_mode": {
    "name": "ipython",
    "version": 3
   },
   "file_extension": ".py",
   "mimetype": "text/x-python",
   "name": "python",
   "nbconvert_exporter": "python",
   "pygments_lexer": "ipython3",
   "version": "3.12.7"
  }
 },
 "nbformat": 4,
 "nbformat_minor": 5
}
