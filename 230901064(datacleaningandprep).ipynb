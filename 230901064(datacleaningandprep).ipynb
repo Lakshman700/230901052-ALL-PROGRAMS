{
 "cells": [
  {
   "cell_type": "code",
   "execution_count": 12,
   "id": "9fbe3a36-e134-4db7-876b-795da7e784b0",
   "metadata": {},
   "outputs": [
    {
     "name": "stdout",
     "output_type": "stream",
     "text": [
      "Original data :\n",
      "\n",
      "The history saving thread hit an unexpected error (OperationalError('attempt to write a readonly database')).History will not be written to the database.\n",
      "    Unnamed: 0  Roll No       Name  Eng  Tamil  Maths  Science  Social  Total\n",
      "0            0      101      fahim   90     95     96       97      98    476\n",
      "1            1      102       loki   45     78     45       65      67    300\n",
      "2            2      103  Maithresh   56     78     90       78      45    347\n",
      "3            3      104    mithali   90     95     76       84      98    443\n",
      "4            4      105    mathosh   45     78     88       65      67    343\n",
      "5            5      106      vijay   56     99     90       55      45    345\n",
      "6            6      107   harshini   90     95     66       90      98    439\n",
      "7            7      108  madhuryaa   45     78     88       65      67    343\n",
      "8            8      109       mani   45     78     45       65      67    300\n",
      "9            9      110     harsha   88     78     89       45      45    345\n",
      "10          10      111    kumaran   90     95     56       44      34    319\n",
      "11          11      112   lakshaya   45     67     64       78      67    321\n",
      "12          12      113    kishore   56     99     99       86      45    385\n",
      "13          13      114      kutty   78     36     66       90      98    368\n",
      "14          14      115      kavin   78     36     66       90      98    368\n"
     ]
    }
   ],
   "source": [
    "import pandas as pd\n",
    "pd.set_option('display.max_columns',10)\n",
    "print(\"Original data :\\n\")\n",
    "df=pd.read_excel(\"/Users/student/Downloads/marks1.xlsx\")\n",
    "print(df)"
   ]
  },
  {
   "cell_type": "code",
   "execution_count": 13,
   "id": "df2afc7c-9b06-4902-993f-31337556aea3",
   "metadata": {},
   "outputs": [],
   "source": [
    "f=df['Name'].str.strip()\n",
    "f.to_excel(\"/Users/student/Downloads/marks2.xlsx\")"
   ]
  },
  {
   "cell_type": "code",
   "execution_count": 14,
   "id": "28f32347-efbc-4339-8ff1-c47df8741758",
   "metadata": {},
   "outputs": [
    {
     "name": "stdout",
     "output_type": "stream",
     "text": [
      "\n",
      "Replace Value:\n",
      "    Unnamed: 0  Roll No       Name  Eng  Tamil  Maths  Science  Social  Total\n",
      "0            0      101      fahim   90     95     96       97      98    476\n",
      "1            1      102       loki   45     78     45       65      67    300\n",
      "2            2      103  Maithresh   56     78     90       78      45    347\n",
      "3            3      104    mithali   90     95     76       84      98    443\n",
      "4            4      105    mathosh   45     78     88       65      67    343\n",
      "5            5      106      vijay   56     99     90       55      45    345\n",
      "6            6      107   harshini   90     95     66       90      98    439\n",
      "7            7      108  madhuryaa   45     78     88       65      67    343\n",
      "8            8      109       mani   45     78     45       65      67    300\n",
      "9            9      110     harsha   88     78     89       45      45    345\n",
      "10          10      111    kumaran   90     95     56       44      34    319\n",
      "11          11      112   lakshaya   45     67     64       78      67    321\n",
      "12          12      113    kishore   56     99     99       86      45    385\n",
      "13          13      114      kutty   78     36     66       90      98    368\n",
      "14          14      115      kavin   78     36     66       90      98    368\n",
      "\n",
      " updated list :\n",
      "\n"
     ]
    },
    {
     "name": "stderr",
     "output_type": "stream",
     "text": [
      "/var/folders/xf/j_sxts057v1_8x_j8ll1m54c0000gp/T/ipykernel_4096/4201453241.py:2: FutureWarning: DataFrame.fillna with 'method' is deprecated and will raise in a future version. Use obj.ffill() or obj.bfill() instead.\n",
      "  k=df.fillna(method='Pad')\n"
     ]
    }
   ],
   "source": [
    "print(\"\\nReplace Value:\")\n",
    "k=df.fillna(method='Pad')\n",
    "print(k)\n",
    "print(\"\\n updated list :\\n\")\n",
    "k.to_excel(\"/Users/student/Downloads/marks1.xlsx\")"
   ]
  },
  {
   "cell_type": "code",
   "execution_count": 15,
   "id": "2a651a69-6c2d-47be-9bfd-f8fa74c8a60c",
   "metadata": {},
   "outputs": [
    {
     "name": "stdout",
     "output_type": "stream",
     "text": [
      "\n",
      "Drop one Particular column and its Values :\n",
      "\n",
      "    Unnamed: 0  Roll No       Name  Eng  Tamil  Maths  Science  Total\n",
      "0            0      101      fahim   90     95     96       97    476\n",
      "1            1      102       loki   45     78     45       65    300\n",
      "2            2      103  Maithresh   56     78     90       78    347\n",
      "3            3      104    mithali   90     95     76       84    443\n",
      "4            4      105    mathosh   45     78     88       65    343\n",
      "5            5      106      vijay   56     99     90       55    345\n",
      "6            6      107   harshini   90     95     66       90    439\n",
      "7            7      108  madhuryaa   45     78     88       65    343\n",
      "8            8      109       mani   45     78     45       65    300\n",
      "9            9      110     harsha   88     78     89       45    345\n",
      "10          10      111    kumaran   90     95     56       44    319\n",
      "11          11      112   lakshaya   45     67     64       78    321\n",
      "12          12      113    kishore   56     99     99       86    385\n",
      "13          13      114      kutty   78     36     66       90    368\n",
      "14          14      115      kavin   78     36     66       90    368\n",
      "\n",
      " Updated List:\n",
      "\n"
     ]
    }
   ],
   "source": [
    "print(\"\\nDrop one Particular column and its Values :\\n\")\n",
    "k.drop([\"Social\"],axis=1,inplace=True)\n",
    "print(k)\n",
    "print(\"\\n Updated List:\\n\")\n",
    "k.to_excel(\"/Users/student/Downloads/marks1.xlsx\")"
   ]
  },
  {
   "cell_type": "code",
   "execution_count": 18,
   "id": "84861466-cf30-452f-b1d4-03dd0f9d562c",
   "metadata": {},
   "outputs": [
    {
     "name": "stdout",
     "output_type": "stream",
     "text": [
      "\n",
      "Drop NaNrows:\n",
      "\n",
      "    Roll No       Name   Eng  Tamil  Maths  Science  Social  Total\n",
      "0       101      fahim  90.0   95.0   96.0     97.0    98.0  476.0\n",
      "1       102       loki  45.0   78.0   45.0     65.0    67.0  300.0\n",
      "2       103  Maithresh  56.0   78.0   90.0     78.0    45.0  347.0\n",
      "3       104    mithali  90.0   95.0   76.0     84.0    98.0  443.0\n",
      "4       105    mathosh  45.0   78.0   88.0     65.0    67.0  343.0\n",
      "5       106      vijay  56.0   99.0   90.0     55.0    45.0  345.0\n",
      "6       107   harshini  90.0   95.0   66.0     90.0    98.0  439.0\n",
      "7       108  madhuryaa  45.0   78.0   88.0     65.0    67.0  343.0\n",
      "8       109       mani  45.0   78.0   45.0     65.0    67.0  300.0\n",
      "9       110     harsha  88.0   78.0   89.0     45.0    45.0  345.0\n",
      "10      111    kumaran  90.0   95.0   56.0     44.0    34.0  319.0\n",
      "11      112   lakshaya  45.0   67.0   64.0     78.0    67.0  321.0\n",
      "12      113    kishore  56.0   99.0   99.0     86.0    45.0  385.0\n",
      "13      114      kutty  78.0   36.0   66.0     90.0    98.0  368.0\n",
      "14      115      kavin   NaN    NaN    NaN      NaN     NaN    NaN \n",
      "\n",
      "    Roll No       Name   Eng  Tamil  Maths  Science  Social  Total\n",
      "0       101      fahim  90.0   95.0   96.0     97.0    98.0  476.0\n",
      "1       102       loki  45.0   78.0   45.0     65.0    67.0  300.0\n",
      "2       103  Maithresh  56.0   78.0   90.0     78.0    45.0  347.0\n",
      "3       104    mithali  90.0   95.0   76.0     84.0    98.0  443.0\n",
      "4       105    mathosh  45.0   78.0   88.0     65.0    67.0  343.0\n",
      "5       106      vijay  56.0   99.0   90.0     55.0    45.0  345.0\n",
      "6       107   harshini  90.0   95.0   66.0     90.0    98.0  439.0\n",
      "7       108  madhuryaa  45.0   78.0   88.0     65.0    67.0  343.0\n",
      "8       109       mani  45.0   78.0   45.0     65.0    67.0  300.0\n",
      "9       110     harsha  88.0   78.0   89.0     45.0    45.0  345.0\n",
      "10      111    kumaran  90.0   95.0   56.0     44.0    34.0  319.0\n",
      "11      112   lakshaya  45.0   67.0   64.0     78.0    67.0  321.0\n",
      "12      113    kishore  56.0   99.0   99.0     86.0    45.0  385.0\n",
      "13      114      kutty  78.0   36.0   66.0     90.0    98.0  368.0\n",
      "\n",
      " updated list :\n",
      "\n"
     ]
    }
   ],
   "source": [
    "print(\"\\nDrop NaNrows:\\n\")\n",
    "df=pd.read_excel(\"/Users/student/Downloads/marks(NaN).xlsx\")\n",
    "print(df,\"\\n\")\n",
    "x=df.dropna()\n",
    "print(x)\n",
    "print(\"\\n updated list :\\n\")\n",
    "x.to_excel(\"/Users/student/Downloads/new mark.xlsx\")"
   ]
  },
  {
   "cell_type": "code",
   "execution_count": null,
   "id": "b2af8e3a-4935-4474-adb7-1680029d9c28",
   "metadata": {},
   "outputs": [],
   "source": []
  }
 ],
 "metadata": {
  "kernelspec": {
   "display_name": "Python 3 (ipykernel)",
   "language": "python",
   "name": "python3"
  },
  "language_info": {
   "codemirror_mode": {
    "name": "ipython",
    "version": 3
   },
   "file_extension": ".py",
   "mimetype": "text/x-python",
   "name": "python",
   "nbconvert_exporter": "python",
   "pygments_lexer": "ipython3",
   "version": "3.12.7"
  }
 },
 "nbformat": 4,
 "nbformat_minor": 5
}
